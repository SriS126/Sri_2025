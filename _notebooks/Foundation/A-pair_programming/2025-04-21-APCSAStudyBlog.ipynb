{
 "cells": [
  {
   "cell_type": "raw",
   "metadata": {},
   "source": [
    "---\n",
    "toc: false \n",
    "layout: post\n",
    "title: AP CSA Study Prep/Progress\n",
    "description: here is my blog about my progress on studying and reviewing for the AP CSA exam\n",
    "courses: { csa: {week: 25} }\n",
    "type: ccc\n",
    "---"
   ]
  },
  {
   "cell_type": "markdown",
   "metadata": {},
   "source": [
    "-------------------------------------------------------------------------------------------------\n",
    "# Progress\n",
    "\n",
    "#### FRQ's \n",
    "![a](https://github.com/user-attachments/assets/b8e73dbb-d513-4ff3-9365-ff63d3dda444)\n",
    "- I have done two FRQ sets on the CB course, reflecting on each one of them\n",
    "- I also am slowly working down the past FRQ's in previous years\n",
    "- practicing/memorizing the syntax of Java\n",
    "- reviewing the answers of the FRQ, made sure to understand why and how\n",
    "\n",
    "\n",
    "#### MC's \n",
    "![a](https://github.com/user-attachments/assets/a578c5a9-b5f3-4887-818b-1d013ff925ac)\n",
    "- I have done two MCQ sets on the CB course, reflecting on each one of them\n",
    "- Additionally, I did some mcq's i found online (sample exam, ms gray website)\n",
    "- Focused on areas where I made mistakes in previous MCQs\n",
    "- Reviewed explanations for both correct and incorrect answers on the cb course mcqs\n",
    "\n",
    "-------------------------------------------------------------------------------------------------"
   ]
  },
  {
   "cell_type": "markdown",
   "metadata": {},
   "source": [
    "\n",
    "# My Process of Study (so far)\n",
    "1. went on past CB MCQ's/FRQ's and noted down the topics i was weak in (the weakness stuff is down below in reflections)\n",
    "2. went through each of my team teach hw/lessons to familiarize/get a gist of all topics\n",
    "3. started to go through the collegeboard videos on the units to strengthen knowledge again on those units, took notes on a personal doc\n",
    "4. took about 2 hrs on studying iteration on runestone (most weighted)\n",
    "5. started to do practice MC's \n",
    "6. studied the four questions of the FRQ using the resource below\n",
    "7. familiarized myself with common frq patterns that show up\n",
    "8. reviewed my team teach table as a general overview\n",
    "-------------------------------------------------------------------------------------------------"
   ]
  },
  {
   "cell_type": "markdown",
   "metadata": {},
   "source": [
    "# Important Knowledge\n",
    "\n",
    "#### FRQ\n",
    "1. Methods and Control Structures\n",
    "- will call methods, write code for methods, write code to create objects of a class. it could include String manipulation, div(/) and mod, if else statements\n",
    "2. Class Writing\n",
    "- write code for a class or subclass according to various specifications. be familiar with writing constructors, use of super, and overridden and inherited methods\n",
    "3. Array and Arraylist Manipulation\n",
    "- create, traverse, and manipulation elements in a 1d array or arraylist of objects. review the rules fo rusing enhanced for loops in traversals, and the specific methods of arraylist for manipulation lists of objects\n",
    "4. 2D Array Manipulation\n",
    "- create, traverse, and manipulation elements in a 2 darray. familiar with row-by-row traversals, 2d array is an array of 1d arrays, review rules for using enhanced for loops in 2d array traversals\n",
    "\n",
    "#### Common Stuff Tested on FRQS\n",
    "- list manipulation using both arrays and arraylists\n",
    "- string manipulation\n",
    "- 2d arrays\n",
    "- classes and subclasses\n",
    "- writing body of a specified method\n",
    "- write bodies of methods using code from previous parts\n",
    "- writing overloaded method\n",
    "- write a constructor\n",
    "- provide an overridden method in a subclass\n",
    "- write a complete class or subclass\n",
    "\n",
    "#### MCQ\n",
    "- all topics\n",
    "- iteration, boolean expresssions & if statements are tested the most\n",
    "- troubleshoot code\n",
    "- use paper to visualize\n",
    "- errors are asked, big O\n",
    "-------------------------------------------------------------------------------------------------"
   ]
  },
  {
   "cell_type": "markdown",
   "metadata": {},
   "source": [
    "# Reflection of my Progress\n",
    "\n",
    "- <a href=\"https://github.com/SriS126/Sri_2025/issues/27\">Weaknesses/Strengths (by ChatGPT)</a>\n",
    "- <a href=\"https://github.com/SriS126/Sri_2025/issues/19\">MC Reflection</a>\n",
    "- <a href=\"https://github.com/SriS126/Sri_2025/issues/20\">FRQ Reflection</a>\n",
    "-------------------------------------------------------------------------------------------------\n",
    "\n"
   ]
  },
  {
   "cell_type": "markdown",
   "metadata": {},
   "source": [
    "# Next Steps\n",
    "- Start timing myself on FRQ and MC (been going for accuracy so far)\n",
    "- Finish the remaining MCQ & FRQ on CB (announcement yest evening reminded me)\n",
    "- Finish the rest of Ms. Gray's MC's \n",
    "- Strengthen knowledge on units I'm not strong in (inheritance, recursion)\n",
    "- Keep track of time, use each day wisely leading up to AP exam\n",
    "- If enough time, watch videos on YT reviewing each unit & practice mc/frq\n",
    "-------------------------------------------------------------------------------------------------"
   ]
  },
  {
   "cell_type": "markdown",
   "metadata": {},
   "source": [
    "# Resources \n",
    "\n",
    "![](https://github.com/user-attachments/assets/163d83d3-0317-49c1-a5e4-ab15cb154d70)\n",
    "- <a href=\"https://sris126.github.io/Sri_2025/2024/10/09/TeamTeachUltimateHWS.html\">Team Teach HWS</a>\n",
    "\n",
    "![](https://github.com/user-attachments/assets/7282ffef-3cbf-4955-b27b-27d70fd98c7d)\n",
    "- <a href=\"https://sris126.github.io/Sri_2025/2024/10/09/TeamTeachBlogReview.html\">Team Teach Table</a>\n",
    "\n",
    "![](https://github.com/user-attachments/assets/de1f6cbf-639c-4789-a351-f66f70292207)\n",
    "- <a href=\"https://docs.google.com/document/d/1itMg2U9q8ylTqcI_uX5YXMz3b3Ns13L5S7YlGiJkNFs/edit?usp=sharing\">Personal Study Notes</a>\n",
    "\n",
    "![](https://github.com/user-attachments/assets/7926b4d9-3d59-4091-ae01-53bcb1f83ee2)\n",
    "- <a href=\"https://docs.google.com/document/d/1QXppn9FamXiNNE0vLtV5aEwob6AbxmaCwdg6uj0xWfw/edit?usp=sharing\">GPT Study Guide + Runestone</a>\n",
    "\n",
    "![](https://github.com/user-attachments/assets/319af551-78b8-45bb-a398-6920bed3b252)\n",
    "- <a href=\"https://www.apluscompsci.com/Tips_On_The_AP_FR_24.pdf\">Useful FRQ Slides</a>\n",
    "\n",
    "![](https://github.com/user-attachments/assets/0b5974a0-1082-47d0-bb4b-703a25db7d4c)\n",
    "- <a href=\"https://www.apcsaexam.org/uploads/1/0/7/7/107712547/ap_sample_questions_from_college_board.pdf\">Sample CSA MC</a>\n",
    "\n",
    "![](https://github.com/user-attachments/assets/3d3f49e2-c3af-44e8-aa6e-ba585b676c0f)\n",
    "- <a href=\"https://www.apcsaexam.org/mcpractice.html\">MC's from Ms. Gray Website</a>"
   ]
  }
 ],
 "metadata": {
  "kernelspec": {
   "display_name": "java (IJava/j!)",
   "language": "java",
   "name": "jbang-ijava"
  },
  "language_info": {
   "codemirror_mode": "java",
   "file_extension": ".jshell",
   "mimetype": "text/x-java-source",
   "name": "Java",
   "pygments_lexer": "java",
   "version": "17.0.11+7-LTS-207"
  },
  "orig_nbformat": 4,
  "vscode": {
   "interpreter": {
    "hash": "aee8b7b246df8f9039afb4144a1f6fd8d2ca17a180786b69acc140d282b71a49"
   }
  }
 },
 "nbformat": 4,
 "nbformat_minor": 2
}
