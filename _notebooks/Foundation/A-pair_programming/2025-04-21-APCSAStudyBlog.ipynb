{
 "cells": [
  {
   "cell_type": "raw",
   "metadata": {},
   "source": [
    "---\n",
    "toc: false \n",
    "layout: post\n",
    "title: AP CSA Study Prep/Progress\n",
    "description: here is my blog about my progress on studying and reviewing for the AP CSA exam\n",
    "courses: { csa: {week: 25} }\n",
    "type: ccc\n",
    "---"
   ]
  },
  {
   "cell_type": "markdown",
   "metadata": {},
   "source": []
  },
  {
   "cell_type": "markdown",
   "metadata": {},
   "source": [
    "# Resources \n",
    "\n",
    "![](https://github.com/user-attachments/assets/163d83d3-0317-49c1-a5e4-ab15cb154d70)\n",
    "- <a href=\"https://sris126.github.io/Sri_2025/2024/10/09/TeamTeachUltimateHWS.html\">Team Teach HWS</a>\n",
    "\n",
    "![](https://github.com/user-attachments/assets/7282ffef-3cbf-4955-b27b-27d70fd98c7d)\n",
    "- <a href=\"https://sris126.github.io/Sri_2025/2024/10/09/TeamTeachBlogReview.html\">Team Teach Table</a>\n",
    "\n",
    "![](https://github.com/user-attachments/assets/de1f6cbf-639c-4789-a351-f66f70292207)\n",
    "- <a href=\"https://docs.google.com/document/d/1itMg2U9q8ylTqcI_uX5YXMz3b3Ns13L5S7YlGiJkNFs/edit?usp=sharing\">Personal Study Guide</a>\n",
    "\n",
    "![](https://github.com/user-attachments/assets/7926b4d9-3d59-4091-ae01-53bcb1f83ee2)\n",
    "- <a href=\"https://docs.google.com/document/d/1QXppn9FamXiNNE0vLtV5aEwob6AbxmaCwdg6uj0xWfw/edit?usp=sharing\">GPT Study Guide + Runestone</a>\n",
    "\n",
    "![](https://github.com/user-attachments/assets/319af551-78b8-45bb-a398-6920bed3b252)\n",
    "- <a href=\"https://www.apluscompsci.com/Tips_On_The_AP_FR_24.pdf\">Useful FRQ Slides</a>"
   ]
  }
 ],
 "metadata": {
  "kernelspec": {
   "display_name": "java (IJava/j!)",
   "language": "java",
   "name": "jbang-ijava"
  },
  "language_info": {
   "codemirror_mode": "java",
   "file_extension": ".jshell",
   "mimetype": "text/x-java-source",
   "name": "Java",
   "pygments_lexer": "java",
   "version": "17.0.11+7-LTS-207"
  },
  "orig_nbformat": 4,
  "vscode": {
   "interpreter": {
    "hash": "aee8b7b246df8f9039afb4144a1f6fd8d2ca17a180786b69acc140d282b71a49"
   }
  }
 },
 "nbformat": 4,
 "nbformat_minor": 2
}
