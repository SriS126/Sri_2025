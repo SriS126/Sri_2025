{
 "cells": [
  {
   "cell_type": "raw",
   "metadata": {},
   "source": [
    "---\n",
    "toc: false \n",
    "layout: post\n",
    "title: Sorting & Searching Algorithms HW \n",
    "description: here is my hw for the sorting and searching algorithms team teach\n",
    "courses: { csa: {week: 25} }\n",
    "type: ccc\n",
    "---"
   ]
  },
  {
   "cell_type": "markdown",
   "metadata": {},
   "source": [
    "# Selection sorting\n",
    "\n",
    "### How it works:\n",
    "1. finds the smallest element (8), swaps it with the most leftmost element (42), end result is [8, 17, 29, 42, 35]\n",
    "2. finds the smallest element from the unsorted part (17), which is already in the correct position, end result is [8, 17, 29, 42, 35]\n",
    "3. finds the smallest element from the unsorted part (29), which is already in the correct position, end result is [8, 17, 29, 42, 35]\n",
    "4. finds the smallest element from the unsorted part (35), swaps it with 42, end result is [8, 17, 29, 35, 42]\n",
    "5. the last element is sorted so, [8, 17, 29, 35, 42]\n",
    "\n",
    "### This process will take 10 comparisons and two swaps\n",
    "\n",
    "### The best case for the selection sort is that it always makes  n(n−1)/2 comparisons, even if the array is already sorted\n",
    "### The worst case for the selectiion sort is that it still makes n(n−1)/2 comparisons, even if the array is in reverse order"
   ]
  }
 ],
 "metadata": {
  "kernelspec": {
   "display_name": "java (IJava/j!)",
   "language": "java",
   "name": "jbang-ijava"
  },
  "language_info": {
   "codemirror_mode": "java",
   "file_extension": ".jshell",
   "mimetype": "text/x-java-source",
   "name": "Java",
   "pygments_lexer": "java",
   "version": "17.0.11+7-LTS-207"
  },
  "orig_nbformat": 4,
  "vscode": {
   "interpreter": {
    "hash": "aee8b7b246df8f9039afb4144a1f6fd8d2ca17a180786b69acc140d282b71a49"
   }
  }
 },
 "nbformat": 4,
 "nbformat_minor": 2
}
