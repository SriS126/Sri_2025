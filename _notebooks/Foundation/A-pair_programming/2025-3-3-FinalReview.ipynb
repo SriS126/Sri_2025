{
 "cells": [
  {
   "cell_type": "markdown",
   "metadata": {},
   "source": [
    "---\n",
    "layout: post\n",
    "title: Final Review\n",
    "description:  here is my final review\n",
    "comments: true\n",
    "---"
   ]
  },
  {
   "cell_type": "markdown",
   "metadata": {},
   "source": [
    "# 1. 5 things over this tri (5)\n",
    "- Issues: Planning gamify/adventuregame, team teach lesson/hws, analytics issue, sprint reviews, integration plans\n",
    "- Presentations: team teaches, n@m talking\n",
    "- Analytics: show my work over the tri, github commits, analytics, using the extension in VS\n",
    "- Personal Blog: showing my website, progress, etc on my student pages and sprints\n",
    "- Burn down: show blog of my project this tri of gamify and progress\n",
    "\n",
    "# 2. Full Stack Feature Demo (2)\n",
    "- will show my creation/customization of the npcs, from before POJO to after POJO oriented, and will talk about/show backend connection to loading questions into npcs, will additionally show n@m feedback/improvements/blog\n",
    "\n",
    "# 3. Key Feature Writeup (1)\n",
    "- will show the documentation of my progress on my feature, the npcs. I will show a visualization of the backend connecting to npcs,and how the npcs relate to the whole project. All of this will be in a blog\n",
    "\n",
    "# 4. MCQ/FRQ Work (1)\n",
    "- will show my CB mcq/frq scores, my reflections and corrections made on them, and where i can improve/how i prepared/connectiion to the team teaches\n",
    "\n",
    "# 5. Extra 10th point from impression/extra stuff (1)\n",
    "- will mock interview with Ms. Pataki\n",
    "- sending summary 24 hours before\n",
    "- getting feedback from peers i am not close with\n",
    "- reflection at the end of my strenghts/weaknesses\n",
    "- will briefly talk about my future plans with CS\n",
    "- going to self grade (down below)\n",
    "\n",
    "\n",
    "Reflection: \n",
    "\n",
    "# 1. 5 things over this tri (4.5)\n",
    "I believe I deserve a *4.5* in this category. I have issues documenting the team teaches, analytics, sprints, etc, and I feel like these issues are good because they show a time stamp and progress throughout this tri, i have a total of about 20 issues. Regarding analytics and burn down, sometimes in the trimester I was lazy and didn't do some work on some days, not committing and just planning. HOwever, I feel like i have a good burn down and documentation.\n",
    "\n",
    "# 2. Full Stack Feature Demo (1.5)\n",
    "I believe I deserve a 1.5 in this category. I didn't do much backend and only coded loading the questions in and different npc interactions, i worked a lot on frontend and helping connect the backend. \n",
    "\n",
    "# 3. Key Feature Writeup (1)\n",
    "- I believe I deserve a 1 in this category. I have a blog documenting my feature progress and how I did it, and have visualizatioins.\n",
    "\n",
    "# 4. MCQ/FRQ Work (1)\n",
    "- I believe i deserve a 1 in this as I have reflections on CB and corrections.\n",
    "\n",
    "# 5. Extra 10th point from impression/extra stuff (1)\n",
    "I believe I deserve a 1 in this as I did/going to do atleast 3 of the beyond perfunctory stuff/prepping.\n",
    "\n",
    "# 9/10 \n",
    "\n"
   ]
  }
 ],
 "metadata": {
  "kernelspec": {
   "display_name": "java (IJava/j!)",
   "language": "java",
   "name": "jbang-ijava"
  },
  "language_info": {
   "codemirror_mode": "java",
   "file_extension": ".jshell",
   "mimetype": "text/x-java-source",
   "name": "java",
   "pygments_lexer": "java",
   "version": "17.0.11+7-LTS-207"
  }
 },
 "nbformat": 4,
 "nbformat_minor": 2
}
