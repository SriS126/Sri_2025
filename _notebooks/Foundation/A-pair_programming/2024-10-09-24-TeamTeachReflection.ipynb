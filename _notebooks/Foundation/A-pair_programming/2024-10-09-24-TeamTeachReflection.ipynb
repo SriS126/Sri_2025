{
 "cells": [
  {
   "cell_type": "markdown",
   "metadata": {},
   "source": [
    "| **Assignment**             | **Points**    | **Grade** | **Evidence** |\n",
    "|----------------------------|---------------|-----------|--------------|\n",
    "| Pull Request (Integration) | 2             |     1.75      |      <img width=\"1028\" alt=\"Screenshot 2024-10-09 at 10 22 10 AM\" src=\"https://github.com/user-attachments/assets/3fc9aedb-cba0-4dac-8876-4d37f71b876d\">        |\n",
    "| Relevancy Checklist (Peer) | 2             |           |              |\n",
    "| Lesson (Group)             | 1             |           |              |\n",
    "| Homework, Popcorn Hacks    | 1 x 8         |           |              |\n",
    "| Individual Contribution    | 1             |           |              |\n",
    "| Personal Notebooks / Blogs | 1             |           |              |\n",
    "| Total                      | 12            |           |              |\n",
    "\n",
    "\n",
    "| **Skill**                  | **Points**    | **Grade** | **Evidence** |\n",
    "|----------------------------|---------------|-----------|--------------|\n",
    "| Work Habits (Analytics)    |   1           |           |              |\n",
    "| Team Planning (Issue)      |   1           |           |              |\n",
    "| Presentation Memories      |   1           |           |              |\n",
    "| Grading and Feedback       |   1           |           |              |\n",
    "| Beyond Perfunctory         |   1           |           |              | \n",
    "| Total                      |   5           |           |              |\n"
   ]
  }
 ],
 "metadata": {
  "kernelspec": {
   "display_name": "java (IJava/j!)",
   "language": "java",
   "name": "jbang-ijava"
  },
  "language_info": {
   "codemirror_mode": "java",
   "file_extension": ".jshell",
   "mimetype": "text/x-java-source",
   "name": "java",
   "pygments_lexer": "java",
   "version": "17.0.11+7-LTS-207"
  }
 },
 "nbformat": 4,
 "nbformat_minor": 2
}
