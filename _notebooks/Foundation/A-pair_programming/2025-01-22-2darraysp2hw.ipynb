{
 "cells": [
  {
   "cell_type": "markdown",
   "metadata": {},
   "source": [
    "---\n",
    "layout: post\n",
    "title: 2D Arrays Part 2 HW\n",
    "description:  here is my 2d arrays part 2 HW frq\n",
    "comments: true\n",
    "---"
   ]
  },
  {
   "cell_type": "markdown",
   "metadata": {},
   "source": [
    "# Part A"
   ]
  },
  {
   "cell_type": "code",
   "execution_count": null,
   "metadata": {},
   "outputs": [],
   "source": [
    "public void repopulate() {\n",
    "    // iterates through each row of the grid\n",
    "    for (int row = 0; row < grid.length; row++) {\n",
    "        // iterate through each column of the grid\n",
    "        for (int col = 0; col < grid[row].length; col++) {\n",
    "            int value;\n",
    "            // generates random values until the criteria are met\n",
    "            do {\n",
    "                value = (int)(Math.random() * MAX) + 1;  // generates a random number between 1 and MAX (inclusive)\n",
    "            } while (value % 10 != 0 || value % 100 == 0);  // ensures the value is divisible by 10 but not by 100\n",
    "            grid[row][col] = value;  // assigns the valid value to the grid\n",
    "        }\n",
    "    }\n",
    "}\n"
   ]
  },
  {
   "cell_type": "markdown",
   "metadata": {},
   "source": [
    "# Part B"
   ]
  },
  {
   "cell_type": "code",
   "execution_count": null,
   "metadata": {},
   "outputs": [],
   "source": [
    "public int countIncreasingCols() {\n",
    "    int count = 0;  // counter for the number of increasing columns\n",
    "\n",
    "    // iterate through each column of the grid\n",
    "    for (int col = 0; col < grid[0].length; col++) {\n",
    "        boolean isIncreasing = true;  // assume the column is increasing\n",
    "\n",
    "        // check each row in the current column (starting from the second row)\n",
    "        for (int row = 1; row < grid.length; row++) {\n",
    "            if (grid[row][col] < grid[row - 1][col]) {  // if current value is less than the previous value\n",
    "                isIncreasing = false;  // columns is not increasing\n",
    "                break;  // exits the loop early as we found a violation\n",
    "            }\n",
    "        }\n",
    "\n",
    "        if (isIncreasing) {\n",
    "            count++;  // incrementss count if the column is increasing\n",
    "        }\n",
    "    }\n",
    "    return count;  // returns the total number of increasing columns\n",
    "}\n"
   ]
  }
 ],
 "metadata": {
  "kernelspec": {
   "display_name": "java (IJava/j!)",
   "language": "java",
   "name": "jbang-ijava"
  },
  "language_info": {
   "codemirror_mode": "java",
   "file_extension": ".jshell",
   "mimetype": "text/x-java-source",
   "name": "java",
   "pygments_lexer": "java",
   "version": "17.0.11+7-LTS-207"
  }
 },
 "nbformat": 4,
 "nbformat_minor": 2
}
