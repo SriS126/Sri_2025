{
 "cells": [
  {
   "cell_type": "markdown",
   "metadata": {},
   "source": [
    "---\n",
    "layout: post\n",
    "title: Methods and Controls hw\n",
    "description:  my hw for methods and controls frq team teach\n",
    "type: issues \n",
    "comments: true\n",
    "---"
   ]
  },
  {
   "cell_type": "markdown",
   "metadata": {},
   "source": [
    "# Part A"
   ]
  },
  {
   "cell_type": "code",
   "execution_count": 1,
   "metadata": {},
   "outputs": [],
   "source": [
    "public int getScore() {\n",
    "    int score = 0;\n",
    "\n",
    "    if (levelOne.goalReached()) {\n",
    "        score += levelOne.getPoints();\n",
    "\n",
    "        if (levelTwo.goalReached()) {\n",
    "            score += levelTwo.getPoints();\n",
    "\n",
    "            if (levelThree.goalReached()) {\n",
    "                score += levelThree.getPoints();\n",
    "            }\n",
    "        }\n",
    "    }\n",
    "\n",
    "    if (isBonus()) {\n",
    "        score *= 3;\n",
    "    }\n",
    "\n",
    "    return score;\n",
    "}\n"
   ]
  },
  {
   "cell_type": "markdown",
   "metadata": {},
   "source": [
    "- Level One Condition: Points are added only if levelOne.goalReached() is true.\n",
    "- Level Two Condition: Points for Level Two are added only if both levelOne.goalReached() and levelTwo.goalReached() are true.\n",
    "- Level Three Condition: Points for Level Three are added only if levelOne.goalReached(), levelTwo.goalReached(), and levelThree.goalReached() are all true.\n",
    "- Bonus Game Multiplier: If the game is a bonus game (isBonus() returns true), the total score is multiplied by 3."
   ]
  },
  {
   "cell_type": "markdown",
   "metadata": {},
   "source": [
    "# Part B\n"
   ]
  },
  {
   "cell_type": "code",
   "execution_count": null,
   "metadata": {},
   "outputs": [],
   "source": [
    "public int playManyTimes(int num) {\n",
    "    int maxScore = 0;\n",
    "\n",
    "    for (int i = 0; i < num; i++) {\n",
    "        play();  \n",
    "        int currentScore = getScore();  \n",
    "\n",
    "        if (currentScore > maxScore) {\n",
    "            maxScore = currentScore;\n",
    "        }\n",
    "    }\n",
    "\n",
    "    return maxScore;\n",
    "}\n"
   ]
  },
  {
   "cell_type": "markdown",
   "metadata": {},
   "source": [
    "Initialization (maxScore = 0):\n",
    "Starts with maxScore set to 0 because scores are always non-negative.\n",
    "\n",
    "Loop Through num Simulations:\n",
    "A for loop runs num times to simulate playing the game multiple times.\n",
    "\n",
    "Play the Game:\n",
    "play() is called in each iteration to simulate one complete game.\n",
    "\n",
    "Get the Current Score:\n",
    "getScore() retrieves the score from the most recent game simulation.\n",
    "\n",
    "Update Maximum Score:\n",
    "If the currentScore is higher than the maxScore, it updates maxScore.\n",
    "\n",
    "Return the Highest Score:\n",
    "After all games are simulated, the method returns the highest score obtained."
   ]
  }
 ],
 "metadata": {
  "kernelspec": {
   "display_name": "java (IJava/j!)",
   "language": "java",
   "name": "jbang-ijava"
  },
  "language_info": {
   "codemirror_mode": "java",
   "file_extension": ".jshell",
   "mimetype": "text/x-java-source",
   "name": "java",
   "pygments_lexer": "java",
   "version": "17.0.11+7-LTS-207"
  }
 },
 "nbformat": 4,
 "nbformat_minor": 2
}
