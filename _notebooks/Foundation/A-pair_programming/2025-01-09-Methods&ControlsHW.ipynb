{
 "cells": [
  {
   "cell_type": "markdown",
   "metadata": {},
   "source": [
    "---\n",
    "layout: post\n",
    "title: Methods and Controls hw\n",
    "description:  my hw for methods and controls frq team teach\n",
    "type: issues \n",
    "comments: true\n",
    "---"
   ]
  },
  {
   "cell_type": "code",
   "execution_count": 1,
   "metadata": {
    "vscode": {
     "languageId": "java"
    }
   },
   "outputs": [],
   "source": [
    "public int getScore() {\n",
    "    int score = 0;\n",
    "\n",
    "    if (levelOne.goalReached()) {\n",
    "        score += levelOne.getPoints();\n",
    "\n",
    "        if (levelTwo.goalReached()) {\n",
    "            score += levelTwo.getPoints();\n",
    "\n",
    "            if (levelThree.goalReached()) {\n",
    "                score += levelThree.getPoints();\n",
    "            }\n",
    "        }\n",
    "    }\n",
    "\n",
    "    if (isBonus()) {\n",
    "        score *= 3;\n",
    "    }\n",
    "\n",
    "    return score;\n",
    "}\n"
   ]
  },
  {
   "cell_type": "markdown",
   "metadata": {},
   "source": [
    "- Level One Condition: Points are added only if levelOne.goalReached() is true.\n",
    "- Level Two Condition: Points for Level Two are added only if both levelOne.goalReached() and levelTwo.goalReached() are true.\n",
    "- Level Three Condition: Points for Level Three are added only if levelOne.goalReached(), levelTwo.goalReached(), and levelThree.goalReached() are all true.\n",
    "- Bonus Game Multiplier: If the game is a bonus game (isBonus() returns true), the total score is multiplied by 3."
   ]
  }
 ],
 "metadata": {
  "kernelspec": {
   "display_name": "java (IJava/j!)",
   "language": "java",
   "name": "jbang-ijava"
  },
  "language_info": {
   "codemirror_mode": "java",
   "file_extension": ".jshell",
   "mimetype": "text/x-java-source",
   "name": "Java",
   "pygments_lexer": "java",
   "version": "17.0.11+7-LTS-207"
  }
 },
 "nbformat": 4,
 "nbformat_minor": 2
}
