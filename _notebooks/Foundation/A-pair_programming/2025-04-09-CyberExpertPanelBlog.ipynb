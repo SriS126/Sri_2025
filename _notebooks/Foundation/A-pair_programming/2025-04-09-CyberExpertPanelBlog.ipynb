{
 "cells": [
  {
   "cell_type": "raw",
   "metadata": {},
   "source": [
    "---\n",
    "toc: false \n",
    "layout: post\n",
    "title: Cyber Expert Panel Blog/Reflection\n",
    "description: Here are some of my thoughts, takeaways, and memories from the Cybersecurity expert panel on 4/9\n",
    "courses: { csa: {week: 25} }\n",
    "type: ccc\n",
    "---"
   ]
  },
  {
   "cell_type": "markdown",
   "metadata": {},
   "source": [
    "# Key Takeaways (that stuck with me)\n",
    "\n",
    "#### From Tricia Mercer\n",
    "- cybersecurity is not just about technology but also about people and policies\n",
    "- simple human error can be one of the biggest vulnerabilities in a secure system\n",
    "- communication and awareness is really important for preventing attacks\n",
    "- you need to be really trustworthy for cyber\n",
    "- get involved in communities and learn about security, start when you can\n",
    "\n",
    "#### From David Tomasz\n",
    "- the government is always working to catch hackers and threats\n",
    "- protecting national and individual privacy is really important\n",
    "- cyber involves high decision making and quick responses\n",
    "- you should explore real-world case studies\n",
    "\n",
    "#### From Victor Nzeata\n",
    "- cybersecurity has a lot of entrepeneour-making decisions involved\n",
    "- AI is coming a long way to help with cyber\n",
    "- need to innovated and create solutions for cyber"
   ]
  },
  {
   "cell_type": "markdown",
   "metadata": {},
   "source": [
    "# Memories\n",
    "- Tricia talked about a time where she shut down her company servers because of a distressed individual who was on their microsoft teams account, she made a quick and high decision that effectively stopped the distressed individual from sending private company data\n",
    "- David talked about times where he caught and revealed hackers names. he described a really good feeling when he did that, and that he was only one of the people in the world who does that\n",
    "- Victor talked about how he used to work in the army and then transitioned to cyber, which showed me how he learned quickly and adapted"
   ]
  },
  {
   "cell_type": "markdown",
   "metadata": {},
   "source": [
    "# Final Thoughts\n",
    "- Be ready to adapt, the world is constantly changing\n",
    "- Passion, curiosity, and ethicalness is important for any field\n",
    "- Cybersecurity is a mindset of a digital world\n",
    "- It inspires me to look into some cybersecurity courses or videos/websites in the future"
   ]
  },
  {
   "cell_type": "markdown",
   "metadata": {},
   "source": [
    "![Image](https://github.com/user-attachments/assets/4a871625-f965-4511-8496-3e525ad66c5c)\n",
    "\n",
    "### Beginning of meeting"
   ]
  },
  {
   "cell_type": "markdown",
   "metadata": {},
   "source": [
    "![Image](https://github.com/user-attachments/assets/874eb483-cb07-4959-aa2c-3d26e8c255f5)\n",
    "\n",
    "### End of meeting"
   ]
  },
  {
   "cell_type": "markdown",
   "metadata": {},
   "source": [
    "# Sri Madhav Surapaneni, Period 3"
   ]
  }
 ],
 "metadata": {
  "kernelspec": {
   "display_name": "java (IJava/j!)",
   "language": "java",
   "name": "jbang-ijava"
  },
  "language_info": {
   "codemirror_mode": "java",
   "file_extension": ".jshell",
   "mimetype": "text/x-java-source",
   "name": "Java",
   "pygments_lexer": "java",
   "version": "17.0.11+7-LTS-207"
  },
  "orig_nbformat": 4,
  "vscode": {
   "interpreter": {
    "hash": "aee8b7b246df8f9039afb4144a1f6fd8d2ca17a180786b69acc140d282b71a49"
   }
  }
 },
 "nbformat": 4,
 "nbformat_minor": 2
}
