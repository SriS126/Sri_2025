{
 "cells": [
  {
   "cell_type": "raw",
   "metadata": {},
   "source": [
    "---\n",
    "toc: false \n",
    "layout: post\n",
    "title: CTE Expo Blog - Sri Madhav Surapaneni P3\n",
    "description: here is a short blog reflecting on my visit at the CTE Expo in Rancho Bernardo\n",
    "courses: { csa: {week: 25} }\n",
    "type: ccc\n",
    "---"
   ]
  },
  {
   "cell_type": "markdown",
   "metadata": {},
   "source": [
    "# People I Talked to at Our Booth\n",
    "\n",
    "#### Aidan Lau\n",
    "- I saw our project, Gamify, on his screen\n",
    "- Even though im in his group, he demo'd it to me as if I was a stranger\n",
    "- We talked about how the game works, what the objective is, and how it is coded\n",
    "- He told me about the importance of CS\n",
    "\n",
    "#### Isabel Marilla\n",
    "- She was presenting toolkit on the monitor \n",
    "- She talked about the pull requests shes been doing \n",
    "- She also talked about how her CS experience"
   ]
  },
  {
   "cell_type": "markdown",
   "metadata": {},
   "source": [
    "# Other Booths I Saw\n",
    "- I saw a plant booth abt importance of gardening and even received a small plant to take home\n",
    "- I saw our robotics team, FRC 3749, and a few other teams driving around robots\n",
    "- I saw Del Norte Deca and all their trophies\n",
    "- I saw HOSA and their missing for medical stuff\n",
    "- I saw a DJ playing music and vibing\n"
   ]
  },
  {
   "cell_type": "markdown",
   "metadata": {},
   "source": [
    "# Short Reflection\n",
    "The CTE Expo was pretty cool and I liked seeing all the different clubs/organizations presenting their material. It was nice seeing our CS class presenting our projects to the public and other organizations that were run by students. cool event and i enjoyed it"
   ]
  },
  {
   "cell_type": "markdown",
   "metadata": {},
   "source": [
    "![Image](https://github.com/user-attachments/assets/efe44c63-293b-4bad-a220-b801b72af281)\n",
    "\n",
    "(Mr. Mort seen leaning in and someone looking at gamify!)"
   ]
  }
 ],
 "metadata": {
  "kernelspec": {
   "display_name": "java (IJava/j!)",
   "language": "java",
   "name": "jbang-ijava"
  },
  "language_info": {
   "codemirror_mode": "java",
   "file_extension": ".jshell",
   "mimetype": "text/x-java-source",
   "name": "Java",
   "pygments_lexer": "java",
   "version": "17.0.11+7-LTS-207"
  },
  "orig_nbformat": 4,
  "vscode": {
   "interpreter": {
    "hash": "aee8b7b246df8f9039afb4144a1f6fd8d2ca17a180786b69acc140d282b71a49"
   }
  }
 },
 "nbformat": 4,
 "nbformat_minor": 2
}
