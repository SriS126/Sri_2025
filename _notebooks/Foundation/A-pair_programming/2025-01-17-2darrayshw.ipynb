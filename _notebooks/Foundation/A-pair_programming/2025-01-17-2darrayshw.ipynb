{
 "cells": [
  {
   "cell_type": "markdown",
   "metadata": {},
   "source": [
    "---\n",
    "layout: post\n",
    "title: 2D Arrays HW\n",
    "description:  here is my 2d arrays HW frq\n",
    "comments: true\n",
    "---"
   ]
  },
  {
   "cell_type": "code",
   "execution_count": null,
   "metadata": {},
   "outputs": [],
   "source": [
    "public class ArrayResizer {\n",
    "\n",
    "    /**\n",
    "     * this checks if every value in row r of array2D is not zero\n",
    "     */\n",
    "    public static boolean isNonZeroRow(int[][] array2D, int r) {\n",
    "        for (int value : array2D[r]) {\n",
    "            if (value == 0) {\n",
    "                return false;  //  it finds a zero, so the row aint non-zero\n",
    "            }\n",
    "        }\n",
    "        return true;  // no zeros found, row is all non-zero\n",
    "    }\n",
    "\n",
    "    /**\n",
    "     * counts how many rows in the array2D have all non-zero values\n",
    "     */\n",
    "    public static int numNonZeroRows(int[][] array2D) {\n",
    "        int count = 0;\n",
    "        for (int r = 0; r < array2D.length; r++) {\n",
    "            if (isNonZeroRow(array2D, r)) {\n",
    "                count++;  // increases count if the row has no zeros\n",
    "            }\n",
    "        }\n",
    "        return count;\n",
    "    }\n",
    "\n",
    "    /**\n",
    "     * creates a new 2D array with only non-zero rows from array2D\n",
    "     */\n",
    "    public static int[][] resize(int[][] array2D) {\n",
    "        int newRowCount = numNonZeroRows(array2D);  // getss number of non-zero rows\n",
    "        int[][] resizedArray = new int[newRowCount][array2D[0].length];\n",
    "\n",
    "        int newRowIdx = 0;\n",
    "        for (int r = 0; r < array2D.length; r++) {\n",
    "            if (isNonZeroRow(array2D, r)) {\n",
    "                // copies the non-zero row into the new array\n",
    "                for (int c = 0; c < array2D[0].length; c++) {\n",
    "                    resizedArray[newRowIdx][c] = array2D[r][c];\n",
    "                }\n",
    "                newRowIdx++;  // moves to the next row in the new array\n",
    "            }\n",
    "        }\n",
    "        return resizedArray;\n",
    "    }\n",
    "}\n"
   ]
  }
 ],
 "metadata": {
  "kernelspec": {
   "display_name": "java (IJava/j!)",
   "language": "java",
   "name": "jbang-ijava"
  },
  "language_info": {
   "codemirror_mode": "java",
   "file_extension": ".jshell",
   "mimetype": "text/x-java-source",
   "name": "java",
   "pygments_lexer": "java",
   "version": "17.0.11+7-LTS-207"
  }
 },
 "nbformat": 4,
 "nbformat_minor": 2
}
