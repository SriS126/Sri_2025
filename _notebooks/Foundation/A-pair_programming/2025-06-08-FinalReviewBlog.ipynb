{
 "cells": [
  {
   "cell_type": "raw",
   "metadata": {},
   "source": [
    "---\n",
    "toc: false \n",
    "layout: post\n",
    "title: Final Review - Sri Surapaneni\n",
    "description: here is my final blog for my final review, reflecting on my projects, skills, qualities, etc\n",
    "courses: { csa: {week: 25} }\n",
    "type: ccc\n",
    "---"
   ]
  },
  {
   "cell_type": "markdown",
   "metadata": {},
   "source": [
    "# Projects\n",
    "\n",
    "\n",
    "### Fortune Finders\n",
    "![Image](https://github.com/user-attachments/assets/3e1ca239-c0c3-403f-a755-7875f3dfb3df)\n",
    "- I worked on Fortune Finders all year, 3 different stages (pixel -> rpg -> current)\n",
    "- Pixel Gamify: Interaction, boundaries, no OOP (static and js), all frontend\n",
    "- RPG Gamify: Movement, Interaction, Quiz (backend + frontend, starting to shift to OOP)\n",
    "- Current (FortuneFinders): NPC's, interaction, waypoint arrow, integration of Gamify (all OOP)\n",
    "- Collaboration, story mindset, game features, adaptable, clean-coder, growth-oriented\n",
    "\n",
    "### Pheonix\n",
    "![Image](https://github.com/user-attachments/assets/ba0953c0-a4d2-4a50-a544-1d6113c66514)\n",
    "- Another version of Twitter\n",
    "- Loved designing frontend, working with html, logins\n",
    "- Creative mind with CSS\n",
    "\n",
    "### Coding4Kidz\n",
    "![Image](https://github.com/user-attachments/assets/5d52d2f2-ddb3-4bca-ab2c-5047dbba2c32)\n",
    "- [C4K](https://www.coding4kidz.org/)\n",
    "- Club that teaches kids Python, Pygame, Java, and roblox scripting for free\n",
    "- New sessions starting this summer\n",
    "- Designing the website was fun, made a live code editor\n",
    "\n",
    "### ML / WEKA Teach\n",
    "![Image](https://github.com/user-attachments/assets/18168fe7-1f56-4f76-8164-29bd0d8ebdf5)\n",
    "- Taught about ML Weka to class\n",
    "- Helped merge Weka, Tablesaw, & Smile into one page (breadcrumb, formatting fix)\n",
    "- Fun way of doing things (Weka demo, fortune finders pitch)\n",
    "\n",
    "------------------------------------------------------------------------------------------"
   ]
  },
  {
   "cell_type": "markdown",
   "metadata": {},
   "source": [
    "# Java/Data Structures/HW\n",
    "- [HW Blogs](https://sris126.github.io/Sri_2025/2024/10/09/TeamTeachUltimateHWS.html)\n",
    "- [AP Exam](https://sris126.github.io/Sri_2025/2025/04/21/APCSAStudyBlog_IPYNB_2_.html)\n",
    "- [Team Teach Table](https://sris126.github.io/Sri_2025/2024/10/09/TeamTeachBlogReview.html)\n",
    "------------------------------------------------------------------------------------------"
   ]
  },
  {
   "cell_type": "markdown",
   "metadata": {},
   "source": [
    "# Showcasing Projects\n",
    "\n"
   ]
  }
 ],
 "metadata": {
  "kernelspec": {
   "display_name": "java (IJava/j!)",
   "language": "java",
   "name": "jbang-ijava"
  },
  "language_info": {
   "codemirror_mode": "java",
   "file_extension": ".jshell",
   "mimetype": "text/x-java-source",
   "name": "Java",
   "pygments_lexer": "java",
   "version": "17.0.11+7-LTS-207"
  },
  "orig_nbformat": 4,
  "vscode": {
   "interpreter": {
    "hash": "aee8b7b246df8f9039afb4144a1f6fd8d2ca17a180786b69acc140d282b71a49"
   }
  }
 },
 "nbformat": 4,
 "nbformat_minor": 2
}
