{
 "cells": [
  {
   "cell_type": "raw",
   "metadata": {},
   "source": [
    "---\n",
    "toc: false \n",
    "layout: post\n",
    "title: Calculator Enactment HW\n",
    "description: here is my hw for the calculator enactment team teach\n",
    "courses: { csa: {week: 25} }\n",
    "type: ccc\n",
    "---"
   ]
  },
  {
   "cell_type": "markdown",
   "metadata": {},
   "source": [
    "![Image](https://github.com/user-attachments/assets/924a12a4-6066-4edf-8cb9-fedbc7e905a8)"
   ]
  },
  {
   "cell_type": "markdown",
   "metadata": {},
   "source": [
    "# Answers for popcorn hack\n",
    "1. (6 * 3) + 4\n",
    "2. (10 + (2 * 8)) - 3\n",
    "3. (15/3) + (2 * 4)\n",
    "4. (7 + (3 * 2)) - 5\n",
    "5. (9 + 3) ^ 2"
   ]
  },
  {
   "cell_type": "markdown",
   "metadata": {},
   "source": [
    "# HW Code Below"
   ]
  },
  {
   "cell_type": "code",
   "execution_count": 6,
   "metadata": {
    "vscode": {
     "languageId": "java"
    }
   },
   "outputs": [
    {
     "name": "stdout",
     "output_type": "stream",
     "text": [
      "Result 1: 96.0\n",
      "Result 2: 33.0\n",
      "Result 3: 144.0\n"
     ]
    }
   ],
   "source": [
    "import java.util.Stack;\n",
    "\n",
    "\n",
    "    // Function to evaluate a prefix expression\n",
    "    public static double evaluatePrefix(String expression) {\n",
    "        Stack<Double> stack = new Stack<>();\n",
    "        String[] tokens = expression.split(\" \");\n",
    "\n",
    "        // Start from the right side of the expression\n",
    "        for (int i = tokens.length - 1; i >= 0; i--) {\n",
    "            String token = tokens[i];\n",
    "\n",
    "            if (isOperator(token)) {\n",
    "                // Pop two operands for the operator\n",
    "                double operand1 = stack.pop();\n",
    "                double operand2 = stack.pop();\n",
    "                double result = applyOperator(token, operand1, operand2);\n",
    "                stack.push(result);\n",
    "            } else {\n",
    "                // If it's a number, push it to the stack\n",
    "                stack.push(Double.parseDouble(token));\n",
    "            }\n",
    "        }\n",
    "\n",
    "        // The final result is at the top of the stack\n",
    "        return stack.pop();\n",
    "    }\n",
    "\n",
    "    // Check if token is an operator\n",
    "    private static boolean isOperator(String token) {\n",
    "        return token.equals(\"+\") || token.equals(\"-\") || token.equals(\"*\") || token.equals(\"/\") || token.equals(\"^\");\n",
    "    }\n",
    "\n",
    "    // Apply the operator to two operands\n",
    "    private static double applyOperator(String operator, double a, double b) {\n",
    "        switch (operator) {\n",
    "            case \"+\": return a + b;\n",
    "            case \"-\": return a - b;\n",
    "            case \"*\": return a * b;\n",
    "            case \"/\": return a / b;\n",
    "            case \"^\": return Math.pow(a, b);\n",
    "            default: throw new IllegalArgumentException(\"Invalid operator: \" + operator);\n",
    "        }\n",
    "    }\n",
    "\n",
    "\n",
    "        // Example expressions\n",
    "        String expression1 = \"* + 10 2 8\"; // (10 + 2) * 8 = 96\n",
    "        String expression2 = \"- * 7 5 2\"; // (7 * 5) - 2 = 33\n",
    "        String expression3 = \"^ + 9 3 2\"; // (9 + 3)^2 = 144        < - -- these are the examples i tested\n",
    "\n",
    "        System.out.println(\"Result 1: \" + evaluatePrefix(expression1));\n",
    "        System.out.println(\"Result 2: \" + evaluatePrefix(expression2));\n",
    "        System.out.println(\"Result 3: \" + evaluatePrefix(expression3));\n",
    "    \n",
    "\n"
   ]
  }
 ],
 "metadata": {
  "kernelspec": {
   "display_name": "java (IJava/j!)",
   "language": "java",
   "name": "jbang-ijava"
  },
  "language_info": {
   "codemirror_mode": "java",
   "file_extension": ".jshell",
   "mimetype": "text/x-java-source",
   "name": "Java",
   "pygments_lexer": "java",
   "version": "17.0.11+7-LTS-207"
  },
  "orig_nbformat": 4,
  "vscode": {
   "interpreter": {
    "hash": "aee8b7b246df8f9039afb4144a1f6fd8d2ca17a180786b69acc140d282b71a49"
   }
  }
 },
 "nbformat": 4,
 "nbformat_minor": 2
}
