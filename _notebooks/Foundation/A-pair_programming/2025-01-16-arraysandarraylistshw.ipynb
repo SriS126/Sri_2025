{
 "cells": [
  {
   "cell_type": "markdown",
   "metadata": {},
   "source": [
    "---\n",
    "layout: post\n",
    "title: Arrays/Arraylists HW\n",
    "description:  here is my array/arraylists HW frq\n",
    "comments: true\n",
    "---"
   ]
  },
  {
   "cell_type": "markdown",
   "metadata": {},
   "source": [
    "Part A"
   ]
  },
  {
   "cell_type": "code",
   "execution_count": null,
   "metadata": {},
   "outputs": [],
   "source": [
    "public void cleanData(double lower, double upper) {\n",
    "    Iterator<Double> iterator = temperatures.iterator();\n",
    "    while (iterator.hasNext()) {\n",
    "        double temp = iterator.next();\n",
    "        if (temp < lower || temp > upper) {\n",
    "            iterator.remove();\n",
    "        }\n",
    "    }\n",
    "}"
   ]
  },
  {
   "cell_type": "markdown",
   "metadata": {},
   "source": [
    "Part B"
   ]
  },
  {
   "cell_type": "code",
   "execution_count": null,
   "metadata": {},
   "outputs": [],
   "source": [
    "public int longestHeatWave(double threshold) {\n",
    "    int maxLength = 0;\n",
    "    int currentLength = 0; \n",
    "\n",
    "    for (double temp : temperatures) {\n",
    "        if (temp > threshold) {\n",
    "            currentLength++;\n",
    "            maxLength = Math.max(maxLength, currentLength);\n",
    "        } else {\n",
    "            currentLength = 0;\n",
    "        }\n",
    "    }\n",
    "\n",
    "    return maxLength;\n",
    "}\n"
   ]
  }
 ],
 "metadata": {
  "kernelspec": {
   "display_name": "java (IJava/j!)",
   "language": "java",
   "name": "jbang-ijava"
  },
  "language_info": {
   "codemirror_mode": "java",
   "file_extension": ".jshell",
   "mimetype": "text/x-java-source",
   "name": "java",
   "pygments_lexer": "java",
   "version": "17.0.11+7-LTS-207"
  }
 },
 "nbformat": 4,
 "nbformat_minor": 2
}
