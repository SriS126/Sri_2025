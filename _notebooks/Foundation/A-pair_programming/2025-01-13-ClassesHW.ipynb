{
 "cells": [
  {
   "cell_type": "markdown",
   "metadata": {},
   "source": [
    "---\n",
    "layout: post\n",
    "title: Classes HW\n",
    "description:  here is my classes HW frq\n",
    "comments: true\n",
    "---"
   ]
  },
  {
   "cell_type": "markdown",
   "metadata": {},
   "source": [
    "# My Code:"
   ]
  },
  {
   "cell_type": "code",
   "execution_count": null,
   "metadata": {},
   "outputs": [],
   "source": [
    "public class CombinedTable {\n",
    "    private SingleTable table1;\n",
    "    private SingleTable table2;\n",
    "\n",
    "    public CombinedTable(SingleTable t1, SingleTable t2) {\n",
    "        table1 = t1;\n",
    "        table2 = t2;\n",
    "    }\n",
    "\n",
    "    public boolean canSeat(int n) {\n",
    "        return table1.getNumSeats() + table2.getNumSeats() - 2 >= n;\n",
    "    }\n",
    "\n",
    "    public double getDesirability() {\n",
    "        if (table1.getHeight() == table2.getHeight()) {\n",
    "            return (table1.getViewQuality() + table2.getViewQuality()) / 2;\n",
    "        } else {\n",
    "            return (table1.getViewQuality() + table2.getViewQuality()) / 2 - 5;  \n",
    "        }\n",
    "    }\n",
    "}\n"
   ]
  },
  {
   "cell_type": "markdown",
   "metadata": {},
   "source": [
    "# I used GPT to score mine (gave it the rubric and question)"
   ]
  },
  {
   "cell_type": "markdown",
   "metadata": {},
   "source": [
    "![image](https://github.com/user-attachments/assets/41844065-267a-4c8b-857f-fcfc46467d7e)"
   ]
  },
  {
   "cell_type": "markdown",
   "metadata": {},
   "source": [
    "# 8/9 (Gpt counted wrong)"
   ]
  },
  {
   "cell_type": "markdown",
   "metadata": {},
   "source": [
    "# What I should Improve on:\n",
    "- reading the questions more carefully\n",
    "- adding comments in code so i can easily understand while doing it\n",
    "- use access modifiers for clarity and consistency"
   ]
  },
  {
   "cell_type": "markdown",
   "metadata": {},
   "source": [
    "# Corrected Code"
   ]
  },
  {
   "cell_type": "code",
   "execution_count": null,
   "metadata": {},
   "outputs": [],
   "source": [
    "public class CombinedTable {\n",
    "    private SingleTable table1;\n",
    "    private SingleTable table2;\n",
    "\n",
    "    public CombinedTable(SingleTable t1, SingleTable t2) {\n",
    "        this.table1 = t1;\n",
    "        this.table2 = t2;\n",
    "    }\n",
    "\n",
    "    public boolean canSeat(int n) {\n",
    "        return table1.getNumSeats() + table2.getNumSeats() - 2 >= n;\n",
    "    }\n",
    "\n",
    "    public double getDesirability() {\n",
    "        if (table1.getHeight() == table2.getHeight()) {\n",
    "            return (table1.getViewQuality() + table2.getViewQuality()) / 2;\n",
    "        } else {\n",
    "            return (table1.getViewQuality() + table2.getViewQuality()) / 2 - 10;\n",
    "        }\n",
    "    }\n",
    "}\n"
   ]
  },
  {
   "cell_type": "markdown",
   "metadata": {},
   "source": [
    "# What I corrected\n",
    "- fixed the incorrect penalty in getDesirability\n",
    "- added this. to clarify instance variable assignment\n",
    "- Ensured proper constrctor access modifier"
   ]
  }
 ],
 "metadata": {
  "kernelspec": {
   "display_name": "java (IJava/j!)",
   "language": "java",
   "name": "jbang-ijava"
  },
  "language_info": {
   "codemirror_mode": "java",
   "file_extension": ".jshell",
   "mimetype": "text/x-java-source",
   "name": "java",
   "pygments_lexer": "java",
   "version": "17.0.11+7-LTS-207"
  }
 },
 "nbformat": 4,
 "nbformat_minor": 2
}
