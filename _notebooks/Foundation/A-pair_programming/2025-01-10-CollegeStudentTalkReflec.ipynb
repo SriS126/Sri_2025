{
 "cells": [
  {
   "cell_type": "markdown",
   "metadata": {},
   "source": [
    "---\n",
    "layout: post\n",
    "title: College Student Talk Reflection\n",
    "description:  These are some key thoughts, questions, and memories that I had from the talk with the college students that came on 1/8\n",
    "type: issues \n",
    "comments: true\n",
    "---"
   ]
  },
  {
   "cell_type": "markdown",
   "metadata": {},
   "source": [
    "# Future Actions\n",
    "- i will talk more to my peers in CS and other stem classes, they emphasized (and Mr. Mort) how important collaboration is\n",
    "- I should always be looking for internships and programs for experience in the future\n",
    "- instead of following the flow, I should be the flow and move with my own skills, with of course ppl helping me \n",
    "- i should start looking for referrals, make good contacts\n",
    "- take time to learn/master skills on github, they are useful in college according to all the speakers\n",
    "- think of answers for \"tell me about yourself\" in interviews\n",
    "- make more issues and diagrams, they are helpful for planning out projects\n",
    "- make a resume that is more concise "
   ]
  },
  {
   "cell_type": "markdown",
   "metadata": {},
   "source": [
    "# Key Thoughts (that stuck with me)\n",
    "- experience is important no matter where it came from\n",
    "- be open minded, dont be afraid to speak out\n",
    "- rather than leading, be your own leader and take initiative\n",
    "- there are more options than just going to a good college\n",
    "- talk to people, talk talk talk!\n",
    "- meeting up with the right people can get you started on a good career path\n",
    "- the idea of scrum master is well developed in a work place\n",
    "- go over only the important parts in your resume"
   ]
  },
  {
   "cell_type": "markdown",
   "metadata": {},
   "source": [
    "![Screenshot 2025-01-12 at 10 05 02 PM](https://github.com/user-attachments/assets/f8aa0e1a-6f99-46d9-8201-8e0d6b611f0f)"
   ]
  },
  {
   "cell_type": "markdown",
   "metadata": {},
   "source": [
    "![Screenshot 2025-01-12 at 10 05 54 PM](https://github.com/user-attachments/assets/b91bf1fd-9789-4db3-8f85-fff5e8cc3143)"
   ]
  },
  {
   "cell_type": "markdown",
   "metadata": {},
   "source": [
    "# Sri Surapaneni, Period 1"
   ]
  }
 ],
 "metadata": {
  "kernelspec": {
   "display_name": "java (IJava/j!)",
   "language": "java",
   "name": "jbang-ijava"
  },
  "language_info": {
   "codemirror_mode": "java",
   "file_extension": ".jshell",
   "mimetype": "text/x-java-source",
   "name": "java",
   "pygments_lexer": "java",
   "version": "17.0.11+7-LTS-207"
  }
 },
 "nbformat": 4,
 "nbformat_minor": 2
}
