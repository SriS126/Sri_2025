{
 "cells": [
  {
   "cell_type": "raw",
   "metadata": {
    "vscode": {
     "languageId": "raw"
    }
   },
   "source": [
    "---\n",
    "layout: post\n",
    "title: Jupyter Notebooks and Play\n",
    "description:  Jup notebooks\n",
    "type: issues \n",
    "comments: true\n",
    "---"
   ]
  },
  {
   "cell_type": "code",
   "execution_count": 5,
   "metadata": {},
   "outputs": [
    {
     "data": {
      "text/markdown": [
       "### Wikipedia Summary for **weapons**"
      ],
      "text/plain": [
       "<IPython.core.display.Markdown object>"
      ]
     },
     "metadata": {},
     "output_type": "display_data"
    },
    {
     "data": {
      "text/markdown": [
       "A weapon, arm, or armament is any implement or device that is used to deter, threaten, inflict physical damage, harm, or kill. Weapons are used to increase the efficacy and efficiency of activities such as hunting, crime (e.g., murder), law enforcement, self-defense, warfare, or suicide. In a broader context, weapons may be construed to include anything used to gain a tactical, strategic, material, or mental advantage over an adversary or enemy target.\n",
       "While ordinary objects such as sticks, rocks, bottles, chairs, and vehicles can be used as weapons, many objects are expressly designed for the purpose; these range from simple implements such as clubs, axes, spears, and swords to complicated modern firearms, tanks, intercontinental ballistic missiles, biological weapons, and cyberweapons. Something that has been repurposed, converted, or enhanced to become a weapon of war is termed weaponized, such as a weaponized virus or weaponized laser."
      ],
      "text/plain": [
       "<IPython.core.display.Markdown object>"
      ]
     },
     "metadata": {},
     "output_type": "display_data"
    },
    {
     "data": {
      "text/markdown": [
       "**Sentiment Analysis Result:** 👎 This article seems negative."
      ],
      "text/plain": [
       "<IPython.core.display.Markdown object>"
      ]
     },
     "metadata": {},
     "output_type": "display_data"
    }
   ],
   "source": [
    "import wikipedia\n",
    "from emoji import emojize\n",
    "from IPython.display import display, Markdown\n",
    "from textblob import TextBlob\n",
    "\n",
    "def analyze_sentiment(text):\n",
    "    analysis = TextBlob(text)\n",
    "    sentiment_score = analysis.sentiment.polarity\n",
    "    \n",
    "    if sentiment_score > 0:\n",
    "        return emojize(\":grinning_face: This article seems positive!\")\n",
    "    elif sentiment_score < 0:\n",
    "        return emojize(\":thumbs_down: This article seems negative.\")\n",
    "    else:\n",
    "        return emojize(\":neutral_face: This article seems neutral.\")\n",
    "\n",
    "def wiki_search_with_feedback():\n",
    "    term = input(\"Enter a term to search on Wikipedia: \")\n",
    "    \n",
    "    try:\n",
    "        result = wikipedia.search(term)\n",
    "        summary = wikipedia.summary(result[0])  \n",
    "        display(Markdown(f\"### Wikipedia Summary for **{term}**\"))\n",
    "        display(Markdown(summary))\n",
    "        sentiment_feedback = analyze_sentiment(summary)\n",
    "        display(Markdown(f\"**Sentiment Analysis Result:** {sentiment_feedback}\"))\n",
    "\n",
    "    except wikipedia.exceptions.DisambiguationError as e:\n",
    "        display(Markdown(f\":warning: **Multiple results found for '{term}', please be more specific:**\"))\n",
    "        for option in e.options[:5]:\n",
    "            display(Markdown(f\"- {option}\"))\n",
    "    except wikipedia.exceptions.PageError:\n",
    "        display(Markdown(f\":warning: **No page found for '{term}', please try a different search term.**\"))\n",
    "\n",
    "wiki_search_with_feedback()"
   ]
  },
  {
   "cell_type": "markdown",
   "metadata": {},
   "source": [
    "# RANDOM SENTENCE DISPLAY DOWN BELOW HACKS"
   ]
  },
  {
   "cell_type": "code",
   "execution_count": 1,
   "metadata": {},
   "outputs": [],
   "source": [
    "\n",
    "\n",
    "public class RandomSentenceDisplay {\n",
    "\n",
    "    public static void main(String[] args) {\n",
    "       \n",
    "        JFrame frame = new JFrame(\"Random Sentence Generator\");\n",
    "\n",
    "       \n",
    "        JLabel sentenceLabel = new JLabel(generateRandomSentence(), JLabel.CENTER);\n",
    "        sentenceLabel.setFont(new Font(\"Serif\", Font.BOLD, 24)); \n",
    "       \n",
    "        frame.setSize(500, 200);\n",
    "        frame.add(sentenceLabel);\n",
    "\n",
    "        \n",
    "        frame.setDefaultCloseOperation(JFrame.EXIT_ON_CLOSE);\n",
    "\n",
    "       \n",
    "        frame.setLocationRelativeTo(null);\n",
    "        frame.setVisible(true);\n",
    "    }\n",
    "\n",
    "   \n",
    "    private static String generateRandomSentence() {\n",
    "       \n",
    "        String[] subjects = {\"The cat\", \"A scientist\", \"An elephant\", \"My friend\", \"The robot\"};\n",
    "        String[] verbs = {\"jumps over\", \"writes\", \"eats\", \"builds\", \"solves\"};\n",
    "        String[] objects = {\"a fence\", \"a computer\", \"some cookies\", \"a spaceship\", \"a puzzle\"};\n",
    "\n",
    "   \n",
    "        Random random = new Random();\n",
    "\n",
    "       \n",
    "        String randomSubject = subjects[random.nextInt(subjects.length)];\n",
    "        String randomVerb = verbs[random.nextInt(verbs.length)];\n",
    "        String randomObject = objects[random.nextInt(objects.length)];\n",
    "\n",
    "        return randomSubject + \" \" + randomVerb + \" \" + randomObject + \".\";\n",
    "    }\n",
    "}\n"
   ]
  },
  {
   "cell_type": "markdown",
   "metadata": {},
   "source": [
    "# RANDOM QUOTE DISPLAY DOWN BELOW HACKS"
   ]
  },
  {
   "cell_type": "code",
   "execution_count": 13,
   "metadata": {},
   "outputs": [],
   "source": [
    "\n",
    "public class RandomQuoteDisplay {\n",
    "\n",
    "    public static void main(String[] args) {\n",
    "      \n",
    "        JFrame frame = new JFrame(\"Random Motivational Quote\");\n",
    "\n",
    "        \n",
    "        JLabel quoteLabel = new JLabel(getRandomQuote(), JLabel.CENTER);\n",
    "        quoteLabel.setFont(new Font(\"Serif\", Font.ITALIC, 20)); \n",
    "        quoteLabel.setForeground(Color.BLUE); \n",
    "\n",
    "        \n",
    "        frame.setSize(600, 200);\n",
    "        frame.add(quoteLabel);\n",
    "\n",
    "       \n",
    "        frame.setDefaultCloseOperation(JFrame.EXIT_ON_CLOSE);\n",
    "\n",
    "        \n",
    "        frame.setLocationRelativeTo(null);\n",
    "        frame.setVisible(true);\n",
    "    }\n",
    "\n",
    "    \n",
    "    private static String getRandomQuote() {\n",
    "       \n",
    "        String[] quotes = {\n",
    "            \"Believe in yourself!\",\n",
    "            \"Stay positive and happy.\",\n",
    "            \"The only limit to our realization of tomorrow is our doubts of today.\",\n",
    "            \"Your limitation—it's only your imagination.\",\n",
    "            \"Push yourself, because no one else is going to do it for you.\",\n",
    "            \"Great things never come from comfort zones.\",\n",
    "            \"Dream it. Wish it. Do it.\",\n",
    "            \"Success doesn’t just find you. You have to go out and get it.\"\n",
    "        };\n",
    "\n",
    "        \n",
    "        Random random = new Random();\n",
    "\n",
    "        \n",
    "        return quotes[random.nextInt(quotes.length)];\n",
    "    }\n",
    "}\n"
   ]
  }
 ],
 "metadata": {
  "kernelspec": {
   "display_name": "java (IJava/j!)",
   "language": "java",
   "name": "jbang-ijava"
  },
  "language_info": {
   "codemirror_mode": "java",
   "file_extension": ".jshell",
   "mimetype": "text/x-java-source",
   "name": "java",
   "pygments_lexer": "java",
   "version": "17.0.11+7-LTS-207"
  }
 },
 "nbformat": 4,
 "nbformat_minor": 2
}
