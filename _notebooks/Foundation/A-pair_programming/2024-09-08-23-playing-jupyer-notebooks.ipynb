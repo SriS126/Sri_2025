{
 "cells": [
  {
   "cell_type": "raw",
   "metadata": {
    "vscode": {
     "languageId": "raw"
    }
   },
   "source": [
    "---\n",
    "layout: post\n",
    "title: Jupyter Notebooks and Play\n",
    "description:  Jup notebooks\n",
    "type: issues \n",
    "comments: true\n",
    "---"
   ]
  },
  {
   "cell_type": "code",
   "execution_count": 5,
   "metadata": {},
   "outputs": [
    {
     "data": {
      "text/markdown": [
       "### Wikipedia Summary for **weapons**"
      ],
      "text/plain": [
       "<IPython.core.display.Markdown object>"
      ]
     },
     "metadata": {},
     "output_type": "display_data"
    },
    {
     "data": {
      "text/markdown": [
       "A weapon, arm, or armament is any implement or device that is used to deter, threaten, inflict physical damage, harm, or kill. Weapons are used to increase the efficacy and efficiency of activities such as hunting, crime (e.g., murder), law enforcement, self-defense, warfare, or suicide. In a broader context, weapons may be construed to include anything used to gain a tactical, strategic, material, or mental advantage over an adversary or enemy target.\n",
       "While ordinary objects such as sticks, rocks, bottles, chairs, and vehicles can be used as weapons, many objects are expressly designed for the purpose; these range from simple implements such as clubs, axes, spears, and swords to complicated modern firearms, tanks, intercontinental ballistic missiles, biological weapons, and cyberweapons. Something that has been repurposed, converted, or enhanced to become a weapon of war is termed weaponized, such as a weaponized virus or weaponized laser."
      ],
      "text/plain": [
       "<IPython.core.display.Markdown object>"
      ]
     },
     "metadata": {},
     "output_type": "display_data"
    },
    {
     "data": {
      "text/markdown": [
       "**Sentiment Analysis Result:** 👎 This article seems negative."
      ],
      "text/plain": [
       "<IPython.core.display.Markdown object>"
      ]
     },
     "metadata": {},
     "output_type": "display_data"
    }
   ],
   "source": [
    "import wikipedia\n",
    "from emoji import emojize\n",
    "from IPython.display import display, Markdown\n",
    "from textblob import TextBlob\n",
    "\n",
    "def analyze_sentiment(text):\n",
    "    analysis = TextBlob(text)\n",
    "    sentiment_score = analysis.sentiment.polarity\n",
    "    \n",
    "    if sentiment_score > 0:\n",
    "        return emojize(\":grinning_face: This article seems positive!\")\n",
    "    elif sentiment_score < 0:\n",
    "        return emojize(\":thumbs_down: This article seems negative.\")\n",
    "    else:\n",
    "        return emojize(\":neutral_face: This article seems neutral.\")\n",
    "\n",
    "def wiki_search_with_feedback():\n",
    "    term = input(\"Enter a term to search on Wikipedia: \")\n",
    "    \n",
    "    try:\n",
    "        result = wikipedia.search(term)\n",
    "        summary = wikipedia.summary(result[0])  \n",
    "        display(Markdown(f\"### Wikipedia Summary for **{term}**\"))\n",
    "        display(Markdown(summary))\n",
    "        sentiment_feedback = analyze_sentiment(summary)\n",
    "        display(Markdown(f\"**Sentiment Analysis Result:** {sentiment_feedback}\"))\n",
    "\n",
    "    except wikipedia.exceptions.DisambiguationError as e:\n",
    "        display(Markdown(f\":warning: **Multiple results found for '{term}', please be more specific:**\"))\n",
    "        for option in e.options[:5]:\n",
    "            display(Markdown(f\"- {option}\"))\n",
    "    except wikipedia.exceptions.PageError:\n",
    "        display(Markdown(f\":warning: **No page found for '{term}', please try a different search term.**\"))\n",
    "\n",
    "wiki_search_with_feedback()"
   ]
  }
 ],
 "metadata": {
  "kernelspec": {
   "display_name": "venv",
   "language": "python",
   "name": "python3"
  },
  "language_info": {
   "codemirror_mode": {
    "name": "ipython",
    "version": 3
   },
   "file_extension": ".py",
   "mimetype": "text/x-python",
   "name": "python",
   "nbconvert_exporter": "python",
   "pygments_lexer": "ipython3",
   "version": "3.11.4"
  }
 },
 "nbformat": 4,
 "nbformat_minor": 2
}
