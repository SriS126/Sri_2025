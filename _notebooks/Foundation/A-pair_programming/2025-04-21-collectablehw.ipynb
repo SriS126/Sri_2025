{
 "cells": [
  {
   "cell_type": "raw",
   "metadata": {},
   "source": [
    "---\n",
    "toc: false \n",
    "layout: post\n",
    "title: Collectible HW\n",
    "description: here is my hw for the collectable team teach\n",
    "courses: { csa: {week: 25} }\n",
    "type: ccc\n",
    "---"
   ]
  },
  {
   "cell_type": "markdown",
   "metadata": {},
   "source": [
    "# List Task"
   ]
  },
  {
   "cell_type": "code",
   "execution_count": null,
   "metadata": {
    "vscode": {
     "languageId": "java"
    }
   },
   "outputs": [],
   "source": [
    "public void addBulkItems(List<Collectible> newItems) {\n",
    "    my_collection.addAll(newItems); // adds teh items from the other lists\n",
    "}\n",
    "\n",
    "public void removeBulkItems(List<Collectible> itemsToRemove) {\n",
    "    my_collection.removeAll(itemsToRemove); // removes items from another list\n",
    "}\n"
   ]
  },
  {
   "cell_type": "markdown",
   "metadata": {},
   "source": [
    "# Dictionary Task"
   ]
  },
  {
   "cell_type": "code",
   "execution_count": null,
   "metadata": {
    "vscode": {
     "languageId": "java"
    }
   },
   "outputs": [],
   "source": [
    "// updates the value by percentage\n",
    "public void updateItemValue(String itemName, double percentage) {\n",
    "    if (item_details.containsKey(itemName)) {\n",
    "        double currentValue = item_details.get(itemName).getValue();\n",
    "        item_details.get(itemName).setValue(currentValue * (1 + percentage / 100));\n",
    "    }\n",
    "}\n",
    "\n",
    "// filters the items by rarirty\n",
    "public List<Collectible> filterByRarity(int rarityLevel) {\n",
    "    return item_details.values().stream()\n",
    "        .filter(item -> item.getRarity() == rarityLevel)\n",
    "        .collect(Collectors.toList());\n",
    "}"
   ]
  },
  {
   "cell_type": "markdown",
   "metadata": {},
   "source": [
    "# Set Task"
   ]
  },
  {
   "cell_type": "code",
   "execution_count": null,
   "metadata": {
    "vscode": {
     "languageId": "java"
    }
   },
   "outputs": [],
   "source": [
    "Set<Collectible> traded_items = new HashSet<>();\n",
    "Set<Collectible> duplicate_items = new HashSet<>();\n",
    "\n",
    "public void addItem(Collectible item) {\n",
    "    if (traded_items.contains(item)) {\n",
    "        duplicate_items.add(item);  // stores/logs if its a dupe\n",
    "    } else {\n",
    "        traded_items.add(item);  // if not, it adds to the main set\n",
    "    }\n",
    "}\n"
   ]
  },
  {
   "cell_type": "markdown",
   "metadata": {},
   "source": [
    "# Print Method"
   ]
  },
  {
   "cell_type": "code",
   "execution_count": null,
   "metadata": {
    "vscode": {
     "languageId": "java"
    }
   },
   "outputs": [],
   "source": [
    "public void printInventory() {\n",
    "    System.out.println(\"Item Name\\tRarity\\tValue\");\n",
    "    for (Collectible item : my_collection) {\n",
    "        System.out.println(item.getName() + \"\\t\" + item.getRarity() + \"\\t\" + item.getValue());\n",
    "    }\n",
    "}\n"
   ]
  },
  {
   "cell_type": "markdown",
   "metadata": {},
   "source": [
    "# Bonus Challenge"
   ]
  },
  {
   "cell_type": "code",
   "execution_count": null,
   "metadata": {
    "vscode": {
     "languageId": "java"
    }
   },
   "outputs": [],
   "source": [
    "Stack<String> folderStack = new Stack<>();\n",
    "folderStack.push(\"weapons\");\n",
    "folderStack.push(\"Magic\");\n",
    "folderStack.push(\"Fire\");\n",
    "\n",
    "// prints the current task\n",
    "System.out.println(String.join(\" > \", folderStack));  // output: weapons > Magic > Fire\n",
    "\n",
    "// goes back from teh fire\n",
    "folderStack.pop();\n",
    "System.out.println(String.join(\" > \", folderStack));  // output: weapons > Magic"
   ]
  }
 ],
 "metadata": {
  "kernelspec": {
   "display_name": "java (IJava/j!)",
   "language": "java",
   "name": "jbang-ijava"
  },
  "language_info": {
   "codemirror_mode": "java",
   "file_extension": ".jshell",
   "mimetype": "text/x-java-source",
   "name": "Java",
   "pygments_lexer": "java",
   "version": "17.0.11+7-LTS-207"
  },
  "orig_nbformat": 4,
  "vscode": {
   "interpreter": {
    "hash": "aee8b7b246df8f9039afb4144a1f6fd8d2ca17a180786b69acc140d282b71a49"
   }
  }
 },
 "nbformat": 4,
 "nbformat_minor": 2
}
