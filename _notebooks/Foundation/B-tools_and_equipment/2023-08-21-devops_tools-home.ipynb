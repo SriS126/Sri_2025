{
 "cells": [
  {
   "cell_type": "raw",
   "metadata": {
    "vscode": {
     "languageId": "raw"
    }
   },
   "source": [
    "---\n",
    "toc: false\n",
    "comments: true\n",
    "layout: post\n",
    "title: Sprint 1 Review Ticket\n",
    "description: Here is my Sprint 1 Review Ticket! Includes a lot of cool things for sprint 1 and objectives\n",
    "type: ccc\n",
    "categories: [DevOps]\n",
    "permalink: /devops/tools/home\n",
    "menu: nav/tools_setup.html\n",
    "toc: true\n",
    "comments: true\n",
    "---"
   ]
  }
 ],
 "metadata": {
  "language_info": {
   "name": "python"
  }
 },
 "nbformat": 4,
 "nbformat_minor": 2
}
