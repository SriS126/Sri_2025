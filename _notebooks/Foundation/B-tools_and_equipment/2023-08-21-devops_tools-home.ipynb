{
 "cells": [
  {
   "cell_type": "raw",
   "metadata": {
    "vscode": {
     "languageId": "raw"
    }
   },
   "source": [
    "---\n",
    "toc: false\n",
    "comments: true\n",
    "layout: post\n",
    "title: Whats your favorite videogame?\n",
    "description: hello?\n",
    "type: ccc\n",
    "categories: [DevOps]\n",
    "permalink: /devops/tools/home\n",
    "menu: nav/tools_setup.html\n",
    "toc: true\n",
    "comments: true\n",
    "---"
   ]
  },
  {
   "cell_type": "markdown",
   "metadata": {},
   "source": [
    "COMMENT YOUR FAVORIDE VIDEOGAME DOWN BELOW!!!!!!\n",
    "\n",
    "![Screenshot 2024-09-09 at 7 28 08 PM](https://github.com/user-attachments/assets/1d082c9a-bc11-40e6-8dd5-f3ca8f168eeb)\n",
    "\n"
   ]
  }
 ],
 "metadata": {
  "language_info": {
   "name": "python"
  }
 },
 "nbformat": 4,
 "nbformat_minor": 2
}
