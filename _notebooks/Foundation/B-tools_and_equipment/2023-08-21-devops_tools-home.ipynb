{
 "cells": [
  {
   "cell_type": "markdown",
   "metadata": {
    "vscode": {
     "languageId": "raw"
    }
   },
   "source": [
    "---\n",
    "toc: False\n",
    "comments: True\n",
    "layout: post\n",
    "title: What's your favorite videogame?\n",
    "description: comment down your favorite videogame down below! I'm making a google survey at the end of the year.\n",
    "type: ccc\n",
    "permalink: /devops/tools/home\n",
    "menu: nav/tools_setup.html\n",
    "---"
   ]
  },
  {
   "cell_type": "markdown",
   "metadata": {},
   "source": [
    "\n",
    "\n",
    "<div style=\"display: flex; gap: 10px; justify-content: center;\">\n",
    "  <img width=\"237\" alt=\"Screenshot 2024-09-09 at 7 28 08 PM\" src=\"https://github.com/user-attachments/assets/1d082c9a-bc11-40e6-8dd5-f3ca8f168eeb\">\n",
    "  <img width=\"217\" alt=\"Screenshot 2024-09-09 at 7 33 34 PM\" src=\"https://github.com/user-attachments/assets/8459373c-818a-41fd-9420-9ca301751f12\">\n",
    "  <img width=\"293\" alt=\"Screenshot 2024-09-09 at 7 33 58 PM\" src=\"https://github.com/user-attachments/assets/38b90093-8ebe-411c-824a-0c5f13ecef7f\">\n",
    "</div>\n"
   ]
  }
 ],
 "metadata": {
  "language_info": {
   "name": "python"
  }
 },
 "nbformat": 4,
 "nbformat_minor": 2
}
