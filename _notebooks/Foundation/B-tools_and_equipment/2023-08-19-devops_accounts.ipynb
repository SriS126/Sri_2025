{
 "cells": [
  {
   "cell_type": "raw",
   "metadata": {},
   "source": [
    "---\n",
    "toc: false\n",
    "comments: true\n",
    "layout: post\n",
    "title: VSCode/Github\n",
    "description: This section includes laptop verification, VSCode, Gitlens, and the student_2025 repo that I made into my own (Sri_2025)\n",
    "dcategories: [DevOps]\n",
    "permalink: /devops/tools/accounts\n",
    "menu: nav/tools_setup.html\n",
    "toc: true\n",
    "comments: true\n",
    "---"
   ]
  },
  {
   "cell_type": "markdown",
   "metadata": {},
   "source": [
    "# 1. Laptop Verification\n",
    "### Here are some linux commands I ran to show my workspace running and working:\n",
    "\n",
    "<img width=\"470\" alt=\"Screenshot 2024-09-05 at 9 27 23 AM\" src=\"https://github.com/user-attachments/assets/607b1e7d-f5ec-4b28-a7b8-c4e97b074ee8\">\n",
    "\n",
    "------------------------------------------------------------------------------------------\n",
    "# 2. VSCode\n",
    "### changing code, committing, running localhost, etc\n",
    "\n",
    "## 1. Home Page Before:\n",
    "\n",
    "<img width=\"772\" alt=\"Screenshot 2024-09-06 at 8 59 59 AM\" src=\"https://github.com/user-attachments/assets/51e1323e-a4be-4d0d-8b9f-b261d449c692\">\n",
    "\n",
    "## 2. Change being made:\n",
    "\n",
    "<img width=\"357\" alt=\"Screenshot 2024-09-06 at 9 01 02 AM\" src=\"https://github.com/user-attachments/assets/7bc29e46-8583-4a24-846e-df3de9e4de2f\">\n",
    "\n",
    "## 3. Local Host Running the Change:\n",
    "<img width=\"715\" alt=\"Screenshot 2024-09-06 at 9 12 32 AM\" src=\"https://github.com/user-attachments/assets/9118bc71-df57-4410-9f36-2feb2d29e8b8\">\n",
    "<img width=\"449\" alt=\"Screenshot 2024-09-06 at 9 13 59 AM\" src=\"https://github.com/user-attachments/assets/4b65dda8-74ed-4429-a908-471aceb19cc3\">\n",
    "\n",
    "## 4. Commit:\n",
    "<img width=\"1405\" alt=\"Screenshot 2024-09-06 at 9 18 05 AM\" src=\"https://github.com/user-attachments/assets/f17669c0-f686-4a94-bc41-f5fa382e6d13\">\n",
    "\n",
    "## 5. Debugging\n",
    "<img width=\"525\" alt=\"Screenshot 2024-09-06 at 9 28 36 AM\" src=\"https://github.com/user-attachments/assets/3b2e89b7-5032-49f4-b62a-75bd49f9b1ea\">\n",
    "\n",
    "------------------------------------------------------------------------------------------\n",
    "# 3. VSCode GitLens \n",
    "### Gitlens showing commits and stats, and old commit i recently made above\n",
    "<img width=\"664\" alt=\"Screenshot 2024-09-06 at 9 30 40 AM\" src=\"https://github.com/user-attachments/assets/bf86e557-731b-4dfe-9198-cdead1746ee5\">\n",
    "<img width=\"690\" alt=\"Screenshot 2024-09-06 at 9 32 08 AM\" src=\"https://github.com/user-attachments/assets/501a34c5-a38e-49e8-87ed-7cd893ae403b\">\n",
    "\n",
    "# 4. Github student_2025 Repo and Pages Action\n",
    "### my repo is named Sri_2025 and is based off of the student_2025 repo\n",
    "<img width=\"1092\" alt=\"Screenshot 2024-09-06 at 9 38 00 AM\" src=\"https://github.com/user-attachments/assets/a022e5df-002c-4276-ae50-a4b4552045aa\">\n",
    "<img width=\"1358\" alt=\"Screenshot 2024-09-06 at 9 39 24 AM\" src=\"https://github.com/user-attachments/assets/3d53e805-e9b5-4ab1-9d36-faee50f85179\">\n",
    "<img width=\"837\" alt=\"Screenshot 2024-09-06 at 9 39 55 AM\" src=\"https://github.com/user-attachments/assets/878074e0-1af3-4f46-abf6-1735cffb928c\">\n",
    "\n",
    "\n",
    "\n",
    "\n",
    "\n",
    "\n",
    "\n",
    "\n",
    "\n",
    "\n",
    "\n"
   ]
  }
 ],
 "metadata": {
  "language_info": {
   "name": "python"
  }
 },
 "nbformat": 4,
 "nbformat_minor": 2
}
