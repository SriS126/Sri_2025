{
 "cells": [
  {
   "cell_type": "raw",
   "metadata": {},
   "source": [
    "---\n",
    "toc: false\n",
    "comments: true\n",
    "layout: post\n",
    "title: VSCode/Github\n",
    "description: This section includes laptop verification, VSCode, Gitlens, and the student_2025 repo that I made into my own (Sri_2025)\n",
    "dcategories: [DevOps]\n",
    "permalink: /devops/tools/accounts\n",
    "menu: nav/tools_setup.html\n",
    "toc: true\n",
    "comments: true\n",
    "---"
   ]
  },
  {
   "cell_type": "markdown",
   "metadata": {},
   "source": [
    "# 1. Laptop Verification\n",
    "### Here are some linux commands I ran to show my workspace running and working:\n",
    "\n",
    "<img width=\"470\" alt=\"Screenshot 2024-09-05 at 9 27 23 AM\" src=\"https://github.com/user-attachments/assets/607b1e7d-f5ec-4b28-a7b8-c4e97b074ee8\">\n",
    "\n",
    "# 2. VSCode\n",
    "### changing code, committing, running localhost, etc\n",
    "\n",
    "## 1. Home Page Before:\n",
    "\n",
    "<img width=\"772\" alt=\"Screenshot 2024-09-06 at 8 59 59 AM\" src=\"https://github.com/user-attachments/assets/51e1323e-a4be-4d0d-8b9f-b261d449c692\">\n",
    "\n",
    "## 2. Change being made:\n",
    "\n",
    "<img width=\"357\" alt=\"Screenshot 2024-09-06 at 9 01 02 AM\" src=\"https://github.com/user-attachments/assets/7bc29e46-8583-4a24-846e-df3de9e4de2f\">\n",
    "\n",
    "## 3. Local Host Running the Change:\n",
    "<img width=\"715\" alt=\"Screenshot 2024-09-06 at 9 12 32 AM\" src=\"https://github.com/user-attachments/assets/9118bc71-df57-4410-9f36-2feb2d29e8b8\">\n",
    "<img width=\"449\" alt=\"Screenshot 2024-09-06 at 9 13 59 AM\" src=\"https://github.com/user-attachments/assets/4b65dda8-74ed-4429-a908-471aceb19cc3\">\n",
    "\n",
    "## 4. Commit:\n",
    "\n",
    "\n",
    "\n",
    "\n",
    "\n",
    "\n"
   ]
  }
 ],
 "metadata": {
  "language_info": {
   "name": "python"
  }
 },
 "nbformat": 4,
 "nbformat_minor": 2
}
