{
 "cells": [
  {
   "cell_type": "raw",
   "metadata": {},
   "source": [
    "---\n",
    "toc: false\n",
    "comments: true\n",
    "layout: post\n",
    "title: VSCode/Github\n",
    "description: This section includes laptop verification, VSCode, Gitlens, and the student_2025 repo that I made into my own (Sri_2025)\n",
    "dcategories: [DevOps]\n",
    "permalink: /devops/tools/accounts\n",
    "menu: nav/tools_setup.html\n",
    "toc: true\n",
    "comments: true\n",
    "---"
   ]
  },
  {
   "cell_type": "markdown",
   "metadata": {},
   "source": [
    "# 1. Laptop Verification\n",
    "### Here are some linux commands I ran to show my workspace running and working:\n",
    "\n",
    "<img width=\"470\" alt=\"Screenshot 2024-09-05 at 9 27 23 AM\" src=\"https://github.com/user-attachments/assets/607b1e7d-f5ec-4b28-a7b8-c4e97b074ee8\">\n"
   ]
  }
 ],
 "metadata": {
  "language_info": {
   "name": "python"
  }
 },
 "nbformat": 4,
 "nbformat_minor": 2
}
